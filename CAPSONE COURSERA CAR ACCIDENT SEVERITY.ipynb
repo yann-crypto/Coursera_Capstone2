{
    "cells": [
        {
            "metadata": {
                "collapsed": true
            },
            "cell_type": "markdown",
            "source": "this notebook will be mainly used for the capstone project"
        },
        {
            "metadata": {},
            "cell_type": "code",
            "source": "import pandas as pd\nimport numpy as np\nprint (\"Hello Capstone Project Course!\")",
            "execution_count": 6,
            "outputs": [
                {
                    "output_type": "stream",
                    "text": "Hello Capstone Project Course!\n",
                    "name": "stdout"
                }
            ]
        },
        {
            "metadata": {},
            "cell_type": "markdown",
            "source": "- Definition of the problem: \n\nThe problem is that despite passive and active security systems embedded in the moderns cars, accidents are still causing a lot of damage to people and are a society concern in Seattle. \n\nWe would like to understand the conditions under which severe car accident occurs in order to be able to generate real time alerts for drivers when they drive in conditions that our model estimate they are defavourable and likely to cause an accident.\n\nThe audience will be all the people driving in Seattle and using naigation system with GPS (exemple waze). They will receive the alert through their navigator.\n"
        },
        {
            "metadata": {},
            "cell_type": "markdown",
            "source": "- Description of the data that will be used to solve the problem:\n\nWe will use the data of the Governemt of Seattle that are available on their website.\nThe file contains around 194000 entries of car accident with several attributes such as localisation, severity of the accident, existence of injuries, usage of drugs of parties invlved etc.\n\nThis dataset will help us to define an algorythm that can predict the probability of a car accident given the localisation of the car and multiple other conditions ."
        },
        {
            "metadata": {},
            "cell_type": "code",
            "source": "",
            "execution_count": null,
            "outputs": []
        }
    ],
    "metadata": {
        "kernelspec": {
            "name": "python3",
            "display_name": "Python 3.6",
            "language": "python"
        },
        "language_info": {
            "name": "python",
            "version": "3.6.9",
            "mimetype": "text/x-python",
            "codemirror_mode": {
                "name": "ipython",
                "version": 3
            },
            "pygments_lexer": "ipython3",
            "nbconvert_exporter": "python",
            "file_extension": ".py"
        }
    },
    "nbformat": 4,
    "nbformat_minor": 1
}