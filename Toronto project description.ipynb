{
    "cells": [
        {
            "cell_type": "markdown",
            "metadata": {
                "collapsed": true
            },
            "source": "o Definition of the problem:\n\nThe problem is that people that want to buy or rent a house are not always aware about all the relevant characteristcis of the neighborhoud and are likely to choose a house in a neighborhoud that does not fit their expectations. \n\nWe would like to make comparable the characteritics of each neighboroud in Toronto using datas in order to enable people to choose their future neigboroud based on objective criterias.\n\nThe audience will be all the people that are looking for a house in tonronto, as well as the real estate agents that are looking to provide good advices to their clients. \n\no Description of the data that will be used to solve the problem:\n\nWe will firstly cluster toronto into different neighborouds using data available on Wikipedia. \nWe will then use the location data on Toronto that are available on the website Foursquare. This will enable us to determine the characteristics of each neighboroud and to compare each neibhorhoud. "
        }
    ],
    "metadata": {
        "kernelspec": {
            "display_name": "Python 3.7",
            "language": "python",
            "name": "python3"
        },
        "language_info": {
            "codemirror_mode": {
                "name": "ipython",
                "version": 3
            },
            "file_extension": ".py",
            "mimetype": "text/x-python",
            "name": "python",
            "nbconvert_exporter": "python",
            "pygments_lexer": "ipython3",
            "version": "3.7.9"
        }
    },
    "nbformat": 4,
    "nbformat_minor": 1
}